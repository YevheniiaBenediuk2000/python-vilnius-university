{
 "cells": [
  {
   "cell_type": "markdown",
   "id": "c1633d9c-b940-499e-be8f-5399f2d932a1",
   "metadata": {},
   "source": [
    "1. Write a program, which asks you to input name, lastname and age. Output: the greeting line which contains entered information and line in which will be present a year, when user will be 100 years old."
   ]
  },
  {
   "cell_type": "code",
   "execution_count": null,
   "id": "ec9ab1ad-c486-4d37-bb88-e36b9c5bdbf8",
   "metadata": {},
   "outputs": [],
   "source": [
    "name = input(\"Your name \")\n",
    "age = input(\"Your age \")\n",
    "age = int(age)\n",
    "century = 100 - age\n",
    "\n",
    "print(f\"Hello, {name}, your age is {age}. In {century} years you will be 100 years old\")"
   ]
  },
  {
   "cell_type": "markdown",
   "id": "c9c9d9e9-2079-4879-9d0e-d8cc94683f46",
   "metadata": {},
   "source": [
    "2. Write a program, which asks to enter integer value. Output: this numbet is even or odd."
   ]
  },
  {
   "cell_type": "code",
   "execution_count": null,
   "id": "16cf29bb-7889-42b0-adff-e7ea676f0fe6",
   "metadata": {},
   "outputs": [],
   "source": [
    "userInt = input(\"Type int value \")\n",
    "userInt = int(userInt)\n",
    "decision = None\n",
    "\n",
    "if(userInt%2):\n",
    "    decision = 'odd'\n",
    "else:\n",
    "    decision = 'even'\n",
    "\n",
    "print(f'The num is {decision}')"
   ]
  },
  {
   "cell_type": "markdown",
   "id": "7e61b7e9-f084-43de-8881-f5ffd03a8a48",
   "metadata": {},
   "source": [
    "3. Write a program, which asks you enter 5 characters. Characters should be added to list. Output: in the first line - first 3 charakters, in the second line - last 2 characters, in the thid line - the oposite order of list. "
   ]
  },
  {
   "cell_type": "code",
   "execution_count": null,
   "id": "69aa2b39-3bb1-48eb-914a-28f4bd6d382b",
   "metadata": {},
   "outputs": [],
   "source": [
    "userList = []\n",
    "\n",
    "for i in range(5):  \n",
    "    userInput = input('Please Enter 5 characters: ')\n",
    "    userList.append(userInput)\n",
    "\n",
    "print(userList)\n",
    "\n",
    "print(userList[0:3])\n",
    "print(userList[-2:])\n",
    "\n",
    "userList.reverse()\n",
    "\n",
    "print(userList)"
   ]
  },
  {
   "cell_type": "markdown",
   "id": "5f5995f6-8d53-4228-a7e0-0eeff54c9298",
   "metadata": {},
   "source": [
    "4. Write a program, which asks you to enter the name and after the name is entered, the program should perform the name search in the dictionary (dictionary should contain name and profession like in the example below). If the name exists - output the profession, if not - \"profession not found\".\n",
    "```python\n",
    "{\n",
    "    \"John\": \"Singer\",\n",
    "    \"Robert\": \"Cosmonaut\",\n",
    "    \"Jessica\": \"Actress\"\n",
    "}"
   ]
  },
  {
   "cell_type": "code",
   "execution_count": null,
   "id": "2c0c4573-9213-4cc1-a9fa-24a5d859112d",
   "metadata": {},
   "outputs": [],
   "source": [
    "dict = {\n",
    "    \"John\": \"Singer\",\n",
    "    \"Robert\": \"Cosmonaut\",\n",
    "    \"Jessica\": \"Actress\"\n",
    "}\n",
    "\n",
    "name = input(\"Choose the name between: John, Robert, Jessica \")\n",
    "\n",
    "if(name in dict):\n",
    "    print(dict[name])\n",
    "else:\n",
    "    print(\"Sorry, we could not find the name in the database\")"
   ]
  },
  {
   "cell_type": "markdown",
   "id": "074d189d-1b44-487e-b0c9-56c2356d333b",
   "metadata": {},
   "source": [
    "5. Write a program, which asks to enter 5 numbers. Output - numbers in ascending order."
   ]
  },
  {
   "cell_type": "code",
   "execution_count": null,
   "id": "9f715902-6b1f-4b26-8e5e-9cdf145b12fe",
   "metadata": {},
   "outputs": [],
   "source": [
    "userNumbersList = []\n",
    "\n",
    "for i in range(5):\n",
    "    userNumbers = input(\"Enter a number \")\n",
    "    userNumbersList.append(int(userNumbers))\n",
    "\n",
    "userNumbersList.sort()\n",
    "\n",
    "print(\"Numbers in ascending order: \")\n",
    "for userNumber in userNumbersList:\n",
    "    print(userNumber)"
   ]
  }
 ],
 "metadata": {
  "kernelspec": {
   "display_name": "Python 3 (ipykernel)",
   "language": "python",
   "name": "python3"
  },
  "language_info": {
   "codemirror_mode": {
    "name": "ipython",
    "version": 3
   },
   "file_extension": ".py",
   "mimetype": "text/x-python",
   "name": "python",
   "nbconvert_exporter": "python",
   "pygments_lexer": "ipython3",
   "version": "3.11.5"
  }
 },
 "nbformat": 4,
 "nbformat_minor": 5
}
