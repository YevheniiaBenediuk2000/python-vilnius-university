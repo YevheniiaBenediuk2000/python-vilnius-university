{
 "cells": [
  {
   "cell_type": "markdown",
   "id": "b4ce6069-80d8-43e1-b0e6-391fc77e0927",
   "metadata": {},
   "source": [
    "1. Write a program, which will combain two lists x and y into the one and sort the new list in ascending order.\n",
    "```python\n",
    "    x = [1, 2, 3, 4, 5, 100, 200, 300, 1000]\n",
    "    y = [100, 1000, 250, 200, 2, 2]\n",
    "```"
   ]
  },
  {
   "cell_type": "code",
   "execution_count": null,
   "id": "4206b543-7a63-45b3-b6bb-c33d71ba7b53",
   "metadata": {},
   "outputs": [],
   "source": [
    "x = [1, 2, 3, 4, 5, 100, 200, 300, 1000]\n",
    "y = [100, 1000, 250, 200, 2, 2]\n",
    "\n",
    "z = x+y\n",
    "z.sort()\n",
    "print(z)"
   ]
  },
  {
   "cell_type": "markdown",
   "id": "2c1bf5af-e213-4eb0-a64a-539a863dae56",
   "metadata": {},
   "source": [
    "2. Write a program, which will find all numbers which divide by 7, but not divide by 5, from range 2000 - 4000. Print these digits to the screen. "
   ]
  },
  {
   "cell_type": "code",
   "execution_count": null,
   "id": "086f550e-004d-4e05-a7c2-fb915743d525",
   "metadata": {},
   "outputs": [],
   "source": [
    "for val in range (2000, 4001):\n",
    "    if val % 7 == 0 and val % 5 != 0:\n",
    "        print(val)"
   ]
  },
  {
   "cell_type": "markdown",
   "id": "c867ab32-b56b-49b9-8c23-9127d6ec634c",
   "metadata": {},
   "source": [
    "3. Write a program, which asks to enter a number (n), then a program should generate a dictionary from 0 to n, which key (i) and value is (i*2). Print the dictionary to the screen."
   ]
  },
  {
   "cell_type": "code",
   "execution_count": null,
   "id": "029bf622-3cdb-4af8-83ab-27ddb4db6500",
   "metadata": {},
   "outputs": [],
   "source": [
    "n = int(input(\"Enter a number \"))\n",
    "dic = {}\n",
    "\n",
    "for i in range(n):\n",
    "    dic[i]=i*2\n",
    "    \n",
    "print(dic)"
   ]
  },
  {
   "cell_type": "markdown",
   "id": "63f7801b-789b-43f7-b64f-24666b3984ed",
   "metadata": {},
   "source": [
    "4. Write a program, which will perform a symbol replacement according to the rules described in the dictionary. Print the changed text to the screen.\n",
    "```python\n",
    "    rules = {\n",
    "        \".\": \"\",\n",
    "        \",\": \".\",\n",
    "        \"!\": \"?\",\n",
    "        \"a\": \"A\"\n",
    "    }\n",
    "```"
   ]
  },
  {
   "cell_type": "code",
   "execution_count": null,
   "id": "9c19f10d-44fb-4429-8aa5-27dc78396ea1",
   "metadata": {},
   "outputs": [],
   "source": [
    "rules = {\n",
    "        \".\": \"\",\n",
    "        \",\": \".\",\n",
    "        \"!\": \"?\",\n",
    "        \"a\": \"A\"\n",
    "    }\n",
    "\n",
    "textReplacement = \"Hi! My name is Yevheniia, I am a Vilnius University student.\"\n",
    "\n",
    "for key, value in rules.items():\n",
    "    textReplacement = textReplacement.replace(key, value)\n",
    "\n",
    "print(textReplacement)"
   ]
  },
  {
   "cell_type": "markdown",
   "id": "d6807445-f55e-4e5b-b70b-21dd5f3e353f",
   "metadata": {},
   "source": [
    "5. Edit the third task. If the number from 2 to 4 will be entered, then ValueError should appear."
   ]
  },
  {
   "cell_type": "code",
   "execution_count": null,
   "id": "49a4af95-c127-4bb5-b0de-5ad4f2c9dbba",
   "metadata": {},
   "outputs": [],
   "source": [
    "n = int(input(\"Enter a number \"))\n",
    "if 2 <= n <= 4:\n",
    "    raise ValueError(\"There is range from 2 to 4 entered\")\n",
    "\n",
    "dic = {}\n",
    "\n",
    "for i in range(n):\n",
    "    dic[i]=i*2\n",
    "    \n",
    "print(dic)"
   ]
  }
 ],
 "metadata": {
  "kernelspec": {
   "display_name": "Python 3 (ipykernel)",
   "language": "python",
   "name": "python3"
  },
  "language_info": {
   "codemirror_mode": {
    "name": "ipython",
    "version": 3
   },
   "file_extension": ".py",
   "mimetype": "text/x-python",
   "name": "python",
   "nbconvert_exporter": "python",
   "pygments_lexer": "ipython3",
   "version": "3.12.3"
  }
 },
 "nbformat": 4,
 "nbformat_minor": 5
}
