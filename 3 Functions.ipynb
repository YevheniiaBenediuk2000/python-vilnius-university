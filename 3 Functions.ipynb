{
 "cells": [
  {
   "cell_type": "markdown",
   "id": "7c82695f-d143-4f58-80b8-922c7fa7949d",
   "metadata": {},
   "source": [
    "1. Write a program to calculate the Pythagorean Theorem. The Pythagorean theorem must be computed in a function. The required values must be entered by the user. Write data validation exceptions."
   ]
  },
  {
   "cell_type": "code",
   "execution_count": null,
   "id": "ea17bdcd-a871-40b2-b408-28e92a8f128e",
   "metadata": {},
   "outputs": [],
   "source": [
    "import math\n",
    "\n",
    "def calculate_hypotenuse(a, b):\n",
    "    sum_of_squares = a**2 + b**2\n",
    "    c = round(math.sqrt(sum_of_squares), 5 )\n",
    "    return c\n",
    "\n",
    "def get_input(prompt):\n",
    "    while True: # Keep asking until valid input is received\n",
    "        try:\n",
    "            value = float(input(prompt))\n",
    "            if value<=0:\n",
    "                raise ValueError(\"Please enter a positive number.\")\n",
    "            return value\n",
    "        except ValueError as e: # Catch non-numeric input and negative numbers\n",
    "            print(f\"Invalid input: {e}\")\n",
    "\n",
    "values = []\n",
    "for side in ['a', 'b']:\n",
    "    val = get_input(f\"Enter value for side {side} to calculate the hypotenuse: \")\n",
    "    values.append(val)\n",
    "\n",
    "print(f\"The hypotenuse is {calculate_hypotenuse(values[0], values[1])}\")"
   ]
  },
  {
   "cell_type": "markdown",
   "id": "aab99243-ba16-465e-919b-edde80f6cb0d",
   "metadata": {},
   "source": [
    "2. Write a program to calculate the body mass index. The body mass index must be calculated in the function. Remember to check the correctness of the parameters. The required values must be entered by the user. Write data validation exceptions."
   ]
  },
  {
   "cell_type": "code",
   "execution_count": null,
   "id": "31a7797d-6c7d-45c6-9d8a-dfd2488fb61b",
   "metadata": {},
   "outputs": [],
   "source": [
    "import math\n",
    "\n",
    "def bmi(weight, height):\n",
    "    # Calculate BMI: weight / (height^2), converted to meters squared, then round to 2 decimal places\n",
    "    bmi_value = weight/height**2\n",
    "    return round(bmi_value*10000, 2)\n",
    "\n",
    "def input_validation(prompt):\n",
    "    while True: \n",
    "        try:\n",
    "            value = float(input(prompt))\n",
    "            if value<=0:\n",
    "                raise ValueError(\"Please enter a positive number.\")\n",
    "            return value\n",
    "        except ValueError as e:\n",
    "            print(f\"Invalid input: {e}\")\n",
    "\n",
    "values = []\n",
    "\n",
    "for parameter in ['weight', 'height']:\n",
    "    val = input_validation(f\"Enter {parameter} to calculate BMI \")\n",
    "    values.append(val)\n",
    "\n",
    "calculated_bmi = bmi(values[0], values[1])\n",
    "print(f\"The BMI is {calculated_bmi}\")"
   ]
  },
  {
   "cell_type": "markdown",
   "id": "35e968c5-ad66-4da4-9f64-458681523d04",
   "metadata": {},
   "source": [
    "3. Write a function that can accept two parameters: the first is a number and the second is a list of numbers. The function must return: the list average, the maximum and the minimum number, the number of digits in the list smaller and larger than the first parameter."
   ]
  },
  {
   "cell_type": "code",
   "execution_count": null,
   "id": "0bbbd5f3-bb8c-4d5d-865d-8bbe0dd45731",
   "metadata": {},
   "outputs": [],
   "source": [
    "import statistics\n",
    "\n",
    "def analyze_list_relative_to_number(num, list_numbers):\n",
    "    if not isinstance(list_numbers,list):\n",
    "        raise TypeError(\"The second argument must be a list.\")\n",
    "    average = statistics.mean(list_numbers)\n",
    "    max_list = max(list_numbers)\n",
    "    min_list = min(list_numbers)\n",
    "\n",
    "    count_smaller = sum(1 for list_number in list_numbers if list_number<num)\n",
    "    count_larger = sum(1 for list_number in list_numbers if list_number>num)\n",
    "\n",
    "    return {\n",
    "        'Average': round(average, 2), \n",
    "        'Max': max_list, \n",
    "        'Min': min_list, \n",
    "        'Smaller than num': count_smaller, \n",
    "        'Larger than num': count_larger\n",
    "    }\n",
    "\n",
    "result = analyze_list_relative_to_number(2, [1,3,4])\n",
    "print(result)"
   ]
  },
  {
   "cell_type": "markdown",
   "id": "c94224a3-912b-4295-8fbb-26e7bc04032c",
   "metadata": {},
   "source": [
    "4. Write a decorator for the first assignment function that would multiply all values returned by two and print them."
   ]
  },
  {
   "cell_type": "code",
   "execution_count": null,
   "id": "755cf1e6-ed52-4e6a-b462-a5d8dd43e522",
   "metadata": {},
   "outputs": [],
   "source": [
    "import math\n",
    "\n",
    "# Decorator to multiply the function result by 2.\n",
    "def multiply_and_print(function):\n",
    "    def wrapper(a, b):\n",
    "        result = function(a, b)\n",
    "        multiplied_result = result * 2\n",
    "        print(f\"Multiplied hypotenuse by 2: {multiplied_result}\")\n",
    "        return multiplied_result\n",
    "    return wrapper\n",
    "\n",
    "@multiply_and_print\n",
    "def calculate_hypotenuse(a, b):\n",
    "    sum_of_squares = a**2 + b**2\n",
    "    c = round(math.sqrt(sum_of_squares), 5 )\n",
    "    return c\n",
    "\n",
    "def get_input(prompt):\n",
    "    while True: # Keep asking until valid input is received\n",
    "        try:\n",
    "            value = float(input(prompt))\n",
    "            if value<=0:\n",
    "                raise ValueError(\"Please enter a positive number.\")\n",
    "            return value\n",
    "        except ValueError as e: # Catch non-numeric input and negative numbers\n",
    "            print(f\"Invalid input: {e}\")\n",
    "\n",
    "values = []\n",
    "for side in ['a', 'b']:\n",
    "    val = get_input(f\"Enter value for side {side} to calculate the hypotenuse: \")\n",
    "    values.append(val)\n",
    "\n",
    "print(f\"The hypotenuse is {calculate_hypotenuse(values[0], values[1])}\")"
   ]
  },
  {
   "cell_type": "markdown",
   "id": "68140052-6a10-48c1-888c-ec7b914feb71",
   "metadata": {},
   "source": [
    "5. Write a program that prompts the user to enter a comma-separated sequence of digits. Create a generator that is fed with two parameters: the first - the user-entered text is converted into a list, and the parameter \"stop\" with a default value of 2. The generator should form return elements according to the formula: list value * 0.5. The \"stop\" parameter specifies how many elements to return to the generator. When the number of return items specified in the \"stop\" parameter is reached, the generator stops working. Write data validity exceptions."
   ]
  },
  {
   "cell_type": "code",
   "execution_count": null,
   "id": "9f9c5656-8d81-47d8-ac41-f06159a58263",
   "metadata": {},
   "outputs": [],
   "source": [
    "def number_generator (user_text, stop = 2):\n",
    "    if not user_text.strip(): \n",
    "        raise ValueError(\"Input must not be empty.\")\n",
    "    \n",
    "    converted_string_list = user_text.split(\",\")\n",
    "\n",
    "    converted_numbers_list = []\n",
    "    try:\n",
    "        for string_to_convert in converted_string_list:\n",
    "            converted_numbers_list.append(int(string_to_convert))\n",
    "    except ValueError:\n",
    "        raise ValueError(\"Input must only contain digits\")\n",
    "    \n",
    "    if len(converted_numbers_list) < 2:\n",
    "        raise ValueError(\"At least 2 digits are required.\")\n",
    "    \n",
    "    i = 0\n",
    "    while i < stop:\n",
    "        yield converted_numbers_list[i] * 0.5\n",
    "        i += 1\n",
    "\n",
    "try:\n",
    "    user_input = input(f\"Enter a comma-separated sequence of digits: \")\n",
    "    generator = number_generator(user_input)\n",
    "    print(next(generator))\n",
    "    print(next(generator))\n",
    "except ValueError as e:\n",
    "    print(e)"
   ]
  },
  {
   "cell_type": "markdown",
   "id": "70d006f2-0423-4e01-87d0-48c6eb7d9e43",
   "metadata": {},
   "source": [
    "6. Write a program that asks the user to enter a number. Recursion should be used to calculate the sum of all numbers from 0 to the entered number and print it out. If you enter 4, then 0 + 1 + 2 + 3 + 4 = 10"
   ]
  },
  {
   "cell_type": "code",
   "execution_count": null,
   "id": "441ca18d-90be-4b26-aa99-f6d38f7520a6",
   "metadata": {},
   "outputs": [],
   "source": [
    "sum = 0\n",
    "\n",
    "def recursive_sum(num):\n",
    "    if num < 0:\n",
    "        print(\"Please, enter a positive number\")\n",
    "        return 0\n",
    "    elif num == 0:\n",
    "        return 0\n",
    "    else:\n",
    "        recursive_sum(num-1)\n",
    "        global sum \n",
    "        sum += num\n",
    "        return sum\n",
    "\n",
    "number = int(input(\"Enter the number \"))\n",
    "result = recursive_sum(number)\n",
    "print(f\"The sum is {result}\")"
   ]
  }
 ],
 "metadata": {
  "kernelspec": {
   "display_name": "Python 3 (ipykernel)",
   "language": "python",
   "name": "python3"
  },
  "language_info": {
   "codemirror_mode": {
    "name": "ipython",
    "version": 3
   },
   "file_extension": ".py",
   "mimetype": "text/x-python",
   "name": "python",
   "nbconvert_exporter": "python",
   "pygments_lexer": "ipython3",
   "version": "3.11.5"
  }
 },
 "nbformat": 4,
 "nbformat_minor": 5
}
