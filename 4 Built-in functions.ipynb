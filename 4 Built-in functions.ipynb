{
 "cells": [
  {
   "cell_type": "markdown",
   "id": "3da0e2c4-dadc-4389-a3c6-bb9a4d8ecb17",
   "metadata": {},
   "source": [
    "1. Write a program that asks the user to enter comma-separated digits. Write data management exceptions. Using Python built-in functions output to the screen: sum of digits entered, maximum and minimum values, values which index is between 2 and 4, number of numbers entered, values greater than 10, list in ascending and descending order, and \"inverted \"list entered."
   ]
  },
  {
   "cell_type": "code",
   "execution_count": null,
   "id": "84e5c84e-f4ac-4766-89b0-a0ec1cd56df0",
   "metadata": {},
   "outputs": [],
   "source": [
    "def parse_digits(input_string):\n",
    "    try:\n",
    "        # Convert input string into a list of integers\n",
    "        digits = list(map(int, input_string.split(\",\")))\n",
    "    except:\n",
    "        print(\"Error: All inputs must be numeric.\")\n",
    "        return []\n",
    "    return digits\n",
    "\n",
    "def digit_management(digits):\n",
    "    if not digits:\n",
    "        return \"No valid numbers provided.\"\n",
    "    \n",
    "    total = sum(digits)\n",
    "    maximal = max(digits)\n",
    "    minimal = min(digits)\n",
    "    greater_than_ten = list(filter(lambda x: x > 10, digits))\n",
    "    greater_than_ten_message = \"not provided\" if not greater_than_ten else greater_than_ten\n",
    "    index_between_two_four = digits[slice(2, 5)] if len(digits) >= 5 else \"cannot be calculated as at least at least 5 numbers must be provided\"\n",
    "    inverted_list = list(reversed(digits))\n",
    "    length = len(digits)\n",
    "    ascending = sorted(digits)\n",
    "    descending = sorted(digits, reverse=True)\n",
    "\n",
    "    print(f\"The sum is {total}, the max value is {maximal}, the min value is {minimal}, values which index is between 2 and 4 {index_between_two_four}, the number of numbers entered is {length}, values greater than 10 are {greater_than_ten_message}, numbers in ascending order {ascending}, descending order {descending} and inverted list entered {inverted_list}\")\n",
    "\n",
    "digits_input = input(\"Enter comma-separated digits: \")\n",
    "digits = parse_digits(digits_input)\n",
    "if digits:\n",
    "    digit_management(digits)"
   ]
  },
  {
   "cell_type": "markdown",
   "id": "c05fb747-b47c-4381-8133-72228dddd28f",
   "metadata": {},
   "source": [
    "2. Sort the list by item length in ascending and descending order.\n",
    "```python\n",
    "    sort_me = [\"Kaunas\", \"Vilnius\", \"Alytus\", \"Klaipeda\", \"Varena\", \"Druskininkai\", \"Klaipeda\"]\n",
    "```"
   ]
  },
  {
   "cell_type": "code",
   "execution_count": null,
   "id": "5bbd1cef-9d92-435d-a52d-88cad323daab",
   "metadata": {},
   "outputs": [],
   "source": [
    "def sort(cities):\n",
    "    ascending = sorted(cities, key = len)\n",
    "    descending = sorted(cities, key = len, reverse = True)\n",
    "\n",
    "    print(f\"Cities in ascending order by length: {ascending}\")\n",
    "    print(f\"Cities in descending order by length: {descending}\")\n",
    "\n",
    "sort_me = [\"Kaunas\", \"Vilnius\", \"Alytus\", \"Klaipeda\", \"Varena\", \"Druskininkai\", \"Klaipeda\"]\n",
    "sort(sort_me)"
   ]
  },
  {
   "cell_type": "markdown",
   "id": "854b5192-a831-4e8b-b805-437c7344bb88",
   "metadata": {},
   "source": [
    "3. Perform list element transformation: 1. by using formula: x = x * (x - 10), 2. square each element.\n",
    "```python\n",
    "    my_list = [12, 45, 23, 56, -546, 34]\n",
    "```"
   ]
  },
  {
   "cell_type": "code",
   "execution_count": null,
   "id": "5fbd72e2-ba16-4a3b-88dd-9db0730d4fa8",
   "metadata": {},
   "outputs": [],
   "source": [
    "def calc_squares(numbers):\n",
    "    squares = [number * number for number in numbers]\n",
    "    return squares\n",
    "\n",
    "def transform_numbers(numbers):\n",
    "    # Transform each number using the formula and calculate squares.\n",
    "    transformed = [number * (number - 10) for number in numbers]\n",
    "    return transformed\n",
    "\n",
    "my_list = [12, 45, 23, 56, -546, 34]\n",
    "transformed_numbers = transform_numbers(my_list)\n",
    "squared_numbers = calc_squares(transformed_numbers)\n",
    "\n",
    "print(f\"Transformed numbers: {transformed_numbers}\")\n",
    "print(f\"Squared numbers: {squared_numbers}\")"
   ]
  },
  {
   "cell_type": "markdown",
   "id": "c2019255-c98c-4e60-840b-75278e08a1e4",
   "metadata": {},
   "source": [
    "4. Sort the dictionary according to the second item in the value list in ascending and descending order.\n",
    "```python\n",
    "    sort_me = { \n",
    "        \"a\": [7, 1, 9], \n",
    "        \"b\": [8, -4, 3],\n",
    "        \"c\": [9, 10, 151],\n",
    "        \"d\": [-3, 9, 11]\n",
    "    }\n",
    "```"
   ]
  },
  {
   "cell_type": "code",
   "execution_count": null,
   "id": "9aeb7ada-4d0f-48fe-a476-d63cc4a7984a",
   "metadata": {},
   "outputs": [],
   "source": [
    "def sort_dictionary_ascending(dictionary):\n",
    "    sorted_items_asc = sorted(dictionary.items(), key=lambda item: item[1][1])\n",
    "    return sorted_items_asc\n",
    "\n",
    "def sort_dictionary_descending(dictionary):\n",
    "    sorted_items_desc = sorted(dictionary.items(), key=lambda item: item[1][1], reverse=True)\n",
    "    return sorted_items_desc\n",
    "\n",
    "sort_me = { \n",
    "        \"a\": [7, 1, 9], \n",
    "        \"b\": [8, -4, 3],\n",
    "        \"c\": [9, 10, 151],\n",
    "        \"d\": [-3, 9, 11]\n",
    "    }\n",
    "\n",
    "sorted_ascending = sort_dictionary_ascending(sort_me)\n",
    "sorted_descending = sort_dictionary_descending(sort_me)\n",
    "\n",
    "print(\"Sorted in Ascending Order by the second item of the lists: \")\n",
    "for item in sorted_ascending:\n",
    "    print(item)\n",
    "\n",
    "print(\"\\nSorted in Descending Order by the second item of the lists: \")\n",
    "for item in sorted_descending:\n",
    "    print(item)"
   ]
  }
 ],
 "metadata": {
  "kernelspec": {
   "display_name": "Python 3 (ipykernel)",
   "language": "python",
   "name": "python3"
  },
  "language_info": {
   "codemirror_mode": {
    "name": "ipython",
    "version": 3
   },
   "file_extension": ".py",
   "mimetype": "text/x-python",
   "name": "python",
   "nbconvert_exporter": "python",
   "pygments_lexer": "ipython3",
   "version": "3.11.5"
  }
 },
 "nbformat": 4,
 "nbformat_minor": 5
}
